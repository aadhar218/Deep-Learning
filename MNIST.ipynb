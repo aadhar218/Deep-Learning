{
 "cells": [
  {
   "cell_type": "code",
   "execution_count": 3,
   "metadata": {},
   "outputs": [],
   "source": [
    "\n",
    "import numpy as np\n",
    "import pandas as pd\n",
    "import matplotlib.pyplot as plt\n",
    "from tqdm import tqdm\n",
    "train_data = np.array(pd.read_csv(\".././mnist_train.csv\"))\n",
    "test_data = np.array(pd.read_csv(\".././mnist_test.csv\"))\n",
    "%matplotlib inline\n",
    "plt.rcParams['figure.figsize'] = (5.0, 4.0) # set default size of plots\n",
    "plt.rcParams['image.interpolation'] = 'nearest'\n",
    "plt.rcParams['image.cmap'] = 'gray'\n",
    "\n",
    "# to normalize the data set"
   ]
  },
  {
   "cell_type": "code",
   "execution_count": 253,
   "metadata": {},
   "outputs": [
    {
     "name": "stdout",
     "output_type": "stream",
     "text": [
      "[[0 1 0 ... 0 0 0]\n",
      " [0 0 0 ... 0 0 0]\n",
      " [0 0 0 ... 0 0 0]\n",
      " ...\n",
      " [0 0 0 ... 0 0 0]\n",
      " [0 0 0 ... 0 0 1]\n",
      " [0 0 0 ... 0 0 0]]\n",
      "784\n"
     ]
    }
   ],
   "source": [
    "X_train = train_data[:,1:].T/255\n",
    "Y_train = train_data[:,0]\n",
    "#one hot endcoding\n",
    "Y_train = np.array([[(1 if i==y else 0) for i in range(0,10)] for y in Y_train]).T\n",
    "print(Y_train)\n",
    "X_test = test_data[:,1:].T/255\n",
    "Y_test = test_data[:,0]\n",
    "#one hot encoding\n",
    "Y_test = np.array([[(1 if i==y else 0) for i in range(0,10)] for y in Y_test]).T\n",
    "print(X_train.shape[0])"
   ]
  },
  {
   "cell_type": "code",
   "execution_count": 254,
   "metadata": {},
   "outputs": [
    {
     "name": "stdout",
     "output_type": "stream",
     "text": [
      "This is a  5\n"
     ]
    },
    {
     "data": {
      "image/png": "[encoded data removed]",
      "text/plain": [
       "<Figure size 360x288 with 1 Axes>"
      ]
     },
     "metadata": {
      "needs_background": "light"
     },
     "output_type": "display_data"
    }
   ],
   "source": [
    "plt.imshow(train_data[0,1:].reshape(28,28))\n",
    "print(\"This is a \",train_data[0,0])"
   ]
  },
  {
   "cell_type": "code",
   "execution_count": 380,
   "metadata": {},
   "outputs": [],
   "source": [
    "def relu(x,p):\n",
    "    if p==0:\n",
    "        return np.maximum(x,0)\n",
    "    if p==1:\n",
    "        return (x>0)*np.ones(x.shape)\n",
    "\n",
    "def linear(x,p):\n",
    "    if p==0:\n",
    "        return x\n",
    "    if p==1:\n",
    "        return np.ones(x.shape)\n",
    "\n",
    "def softmax(x,p):\n",
    "    if p==0:\n",
    "        return np.exp(x)/np.sum(np.exp(x),axis=0,keepdims=True)\n"
   ]
  },
  {
   "cell_type": "code",
   "execution_count": 389,
   "metadata": {},
   "outputs": [],
   "source": [
    "def initialize_parameters_deep(layer_dims):\n",
    "    parameters = {}\n",
    "    L = len(layer_dims)            # number of layers in the network\n",
    "    for l in range(1, L):\n",
    "        ### START CODE HERE ### (≈ 2 lines of code)\n",
    "        parameters['W' + str(l)] = np.random.randn(layer_dims[l], layer_dims[l - 1]) * (np.sqrt(2 / layer_dims[l - 1]))\n",
    "        parameters['b' + str(l)] = np.zeros((layer_dims[l], 1))\n",
    "        ### END CODE HERE ###\n",
    "        \n",
    "        assert(parameters['W' + str(l)].shape == (layer_dims[l], layer_dims[l - 1]))\n",
    "        assert(parameters['b' + str(l)].shape == (layer_dims[l], 1))\n",
    "       \n",
    "\n",
    "        \n",
    "    return parameters"
   ]
  },
  {
   "cell_type": "code",
   "execution_count": 390,
   "metadata": {},
   "outputs": [],
   "source": [
    "def linear_forward(X,layers_dims):\n",
    "    A=[X]\n",
    "    for l in range(1,len(layers_dims)):\n",
    "        Z = np.dot(parameters[\"W\"+str(l)],A[l-1]) + parameters[\"b\"+str(l)]\n",
    "        A1 = g[l](Z,0)\n",
    "        A.append(A1)\n",
    "    return A"
   ]
  },
  {
   "cell_type": "code",
   "execution_count": 391,
   "metadata": {},
   "outputs": [],
   "source": [
    "def backward(A,dZl):\n",
    "        m = A[-1].shape[1]\n",
    "        dZi_prev = dZl\n",
    "        for l in reversed(range(1,len(layers_dims))):\n",
    "            dZi = dZi_prev\n",
    "            grads[\"dW\"+str(l)] = (1/m)*np.dot(dZi,A[l-1].T)\n",
    "            grads[\"db\"+str(l)] = (1/m)*np.sum(dZi, axis=1, keepdims=True)\n",
    "            dZi_prev = np.dot(parameters[\"W\"+str(l)].T,dZi)*g[l-1](A[l-1],1)\n",
    "        return grads"
   ]
  },
  {
   "cell_type": "code",
   "execution_count": 392,
   "metadata": {},
   "outputs": [],
   "source": [
    "def compute_cost(AL, Y):\n",
    "    \"\"\"\n",
    "    Implement the cost function defined by equation (7).\n",
    "\n",
    "    Arguments:\n",
    "    AL -- probability vector corresponding to your label predictions, shape (1, number of examples)\n",
    "    Y -- true \"label\" vector (for example: containing 0 if non-cat, 1 if cat), shape (1, number of examples)\n",
    "\n",
    "    Returns:\n",
    "    cost -- cross-entropy cost\n",
    "    \"\"\"\n",
    "    # Compute loss from aL and y.\n",
    "    ### START CODE HERE ### (≈ 1 lines of code)\n",
    "    L = -np.sum(Y*np.log(AL),axis=0)\n",
    "    return L"
   ]
  },
  {
   "cell_type": "code",
   "execution_count": 440,
   "metadata": {},
   "outputs": [],
   "source": [
    "def L_layer_model(X, Y, layers_dims, learning_rate, num_iterations): #lr was 0.009\n",
    "    \"\"\"\n",
    "    Implements a L-layer neural network: [LINEAR->RELU]*(L-1)->LINEAR->SIGMOID.\n",
    "    \n",
    "    Arguments:\n",
    "    X -- data, numpy array of shape (number of examples, num_px * num_px * 3)\n",
    "    Y -- true \"label\" vector (containing 0 if cat, 1 if non-cat), of shape (1, number of examples)\n",
    "    layers_dims -- list containing the input size and each layer size, of length (number of layers + 1).\n",
    "    learning_rate -- learning rate of the gradient descent update rule\n",
    "    num_iterations -- number of iterations of the optimization loop\n",
    "    print_cost -- if True, it prints the cost every 100 steps\n",
    "    \n",
    "    Returns:\n",
    "    parameters -- parameters learnt by the model. They can then be used to predict.\n",
    "    \"\"\"\n",
    "\n",
    "    costs = []                    # keep track of cost\n",
    "    # Parameters initialization.\n",
    "    ### START CODE HERE ###\n",
    "    \n",
    "    ### END CODE HERE ###\n",
    "    # Loop (gradient descent)\n",
    "    for i in range(0, num_iterations):\n",
    "\n",
    "        # Forward propagation: [LINEAR -> RELU]*(L-1) -> LINEAR -> SIGMOID.\n",
    "        ### START CODE HERE ### (≈ 1 line of code)\n",
    "        A = linear_forward(X,layers_dims)\n",
    "        m=Y.shape[1]\n",
    "        cost = np.sum(compute_cost(A[-1],Y))*(1/m)\n",
    "        costs.append(cost)\n",
    "        dZl = A[-1]-Y\n",
    "        # Backward propagation.\n",
    "        ### START CODE HERE ### (≈ 1 line of code)\n",
    "        grads = backward(A,dZl)\n",
    "        for k in range(1,len(layers_dims)):\n",
    "            parameters[\"W\" + str(k )] = parameters[\"W\" + str(k )] - learning_rate * grads[\"dW\" + str(k )]\n",
    "            parameters[\"b\" + str(k )] = parameters[\"b\" + str(k )] - learning_rate * grads[\"db\" + str(k )]\n",
    "    return costs\n"
   ]
  },
  {
   "cell_type": "code",
   "execution_count": null,
   "metadata": {},
   "outputs": [],
   "source": []
  },
  {
   "cell_type": "code",
   "execution_count": 468,
   "metadata": {},
   "outputs": [
    {
     "name": "stderr",
     "output_type": "stream",
     "text": [
      "100%|██████████| 938/938 [00:04<00:00, 201.96it/s]\n",
      "100%|██████████| 938/938 [00:04<00:00, 202.09it/s]\n",
      "100%|██████████| 938/938 [00:04<00:00, 198.06it/s]\n"
     ]
    },
    {
     "data": {
      "image/png": "[encoded data removed]",
      "text/plain": [
       "<Figure size 360x288 with 1 Axes>"
      ]
     },
     "metadata": {
      "needs_background": "light"
     },
     "output_type": "display_data"
    }
   ],
   "source": [
    "layers_dims = [X_train.shape[0], 60, 60,20,10] \n",
    "g = [linear,relu,relu,relu,softmax]\n",
    "BATCH_SIZE = 64\n",
    "EPOCHS = 3\n",
    "costs = []\n",
    "grads={}\n",
    "parameters = initialize_parameters_deep(layers_dims)\n",
    "for epoch in range(0,EPOCHS):\n",
    "    for i in tqdm(range(0,X_train.shape[1],BATCH_SIZE)):\n",
    "        X_batch = X_train[:,i:i+BATCH_SIZE]\n",
    "        Y_batch = Y_train[:,i:i+BATCH_SIZE]\n",
    "        c = L_layer_model(X_batch,Y_batch,layers_dims,learning_rate=0.05,num_iterations=1)\n",
    "        costs.append(c)\n",
    "plt.plot(costs)\n",
    "plt.axhline(color=\"k\")\n",
    "plt.xlabel(\"Iterations\")\n",
    "plt.ylabel(\"Cost\")\n",
    "plt.show()"
   ]
  },
  {
   "cell_type": "code",
   "execution_count": 469,
   "metadata": {},
   "outputs": [
    {
     "name": "stdout",
     "output_type": "stream",
     "text": [
      "(10, 60000)\n"
     ]
    }
   ],
   "source": [
    "A=linear_forward(X_train,layers_dims)\n",
    "\n",
    "print(A[-1].shape)"
   ]
  },
  {
   "cell_type": "code",
   "execution_count": 470,
   "metadata": {},
   "outputs": [],
   "source": [
    "def predict(A,Y_train):\n",
    "    Y_pred=np.round(A[-1])\n",
    "    accuracy = (1- np.sum((Y_pred-Y_train)**2)/Y_train.shape[1])*100\n",
    "    print(accuracy)"
   ]
  },
  {
   "cell_type": "code",
   "execution_count": 471,
   "metadata": {},
   "outputs": [
    {
     "name": "stdout",
     "output_type": "stream",
     "text": [
      "93.08166666666666\n"
     ]
    }
   ],
   "source": [
    "predict(A,Y_train)"
   ]
  },
  {
   "cell_type": "code",
   "execution_count": null,
   "metadata": {},
   "outputs": [],
   "source": []
  }
 ],
 "metadata": {
  "kernelspec": {
   "display_name": "Python 3",
   "language": "python",
   "name": "python3"
  },
  "language_info": {
   "codemirror_mode": {
    "name": "ipython",
    "version": 3
   },
   "file_extension": ".py",
   "mimetype": "text/x-python",
   "name": "python",
   "nbconvert_exporter": "python",
   "pygments_lexer": "ipython3",
   "version": "3.6.9"
  }
 },
 "nbformat": 4,
 "nbformat_minor": 4
}
